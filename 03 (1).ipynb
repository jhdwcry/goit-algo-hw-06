{
  "nbformat": 4,
  "nbformat_minor": 0,
  "metadata": {
    "colab": {
      "provenance": []
    },
    "kernelspec": {
      "name": "python3",
      "display_name": "Python 3"
    },
    "language_info": {
      "name": "python"
    }
  },
  "cells": [
    {
      "cell_type": "code",
      "execution_count": 1,
      "metadata": {
        "colab": {
          "base_uri": "https://localhost:8080/",
          "height": 0
        },
        "id": "9w3tnWdkaDZA",
        "outputId": "98cfc22e-f553-456e-a127-0af3124620a6"
      },
      "outputs": [
        {
          "output_type": "stream",
          "name": "stdout",
          "text": [
            "Shortest distances from Alice:\n",
            "Distance to Alice: 0\n",
            "Distance to Bob: 1\n",
            "Distance to Charlie: 2\n",
            "Distance to David: 3\n",
            "Distance to Eve: 6\n",
            "Shortest paths:\n",
            "Shortest path from Alice to Bob: Alice -> Bob\n",
            "Shortest path from Alice to Charlie: Alice -> Charlie\n",
            "Shortest path from Alice to David: Alice -> Charlie -> David\n",
            "Shortest path from Alice to Eve: Alice -> Charlie -> David -> Eve\n"
          ]
        }
      ],
      "source": [
        "import heapq\n",
        "\n",
        "def dijkstra(graph, start):\n",
        "    distances = {node: float('inf') for node in graph}\n",
        "    distances[start] = 0\n",
        "    priority_queue = [(0, start)]\n",
        "    shortest_path = {node: None for node in graph}\n",
        "\n",
        "    while priority_queue:\n",
        "        current_distance, current_node = heapq.heappop(priority_queue)\n",
        "\n",
        "        if current_distance > distances[current_node]:\n",
        "            continue\n",
        "\n",
        "        for neighbor, weight in graph[current_node].items():\n",
        "            distance = current_distance + weight\n",
        "\n",
        "            if distance < distances[neighbor]:\n",
        "                distances[neighbor] = distance\n",
        "                shortest_path[neighbor] = current_node\n",
        "                heapq.heappush(priority_queue, (distance, neighbor))\n",
        "\n",
        "    return distances, shortest_path\n",
        "\n",
        "def reconstruct_path(start, end, shortest_path):\n",
        "    path = []\n",
        "    while end is not None:\n",
        "        path.append(end)\n",
        "        end = shortest_path[end]\n",
        "    path.reverse()\n",
        "    return path\n",
        "\n",
        "graph = {\n",
        "    'Alice': {'Bob': 1, 'Charlie': 2},\n",
        "    'Bob': {'Charlie': 2},\n",
        "    'Charlie': {'David': 1},\n",
        "    'David': {'Eve': 3},\n",
        "    'Eve': {'Alice': 4}\n",
        "}\n",
        "\n",
        "start_node = 'Alice'\n",
        "\n",
        "distances, shortest_path = dijkstra(graph, start_node)\n",
        "\n",
        "print(f\"Shortest distances from {start_node}:\")\n",
        "for node, distance in distances.items():\n",
        "    print(f\"Distance to {node}: {distance}\")\n",
        "\n",
        "print(\"Shortest paths:\")\n",
        "for node in graph.keys():\n",
        "    if node != start_node:\n",
        "        path = reconstruct_path(start_node, node, shortest_path)\n",
        "        print(f\"Shortest path from {start_node} to {node}: {' -> '.join(path)}\")\n",
        "\n"
      ]
    }
  ]
}